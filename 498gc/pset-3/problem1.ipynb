{
 "cells": [
  {
   "cell_type": "markdown",
   "metadata": {},
   "source": [
    "# Question 1\n",
    "Given information:\n",
    "GPS Reading (degrees, minutes, seconds):\n",
    "- SW corner\n",
    "  - $80^{\\circ}, 10', 14.50\"$ west longitude\n",
    "  - $41^{\\circ}, 14', 33.50\"$ north latitude\n",
    "- NE corner\n",
    "  - $80^{\\circ}, 11', 9.8\"$ west longitude\n",
    "  - $41^{\\circ}, 16', 2.1\"$ north latitude\n",
    "\n",
    "Formula for converstion from GPS reading to distance:\n",
    "\n",
    "$x - x_0 = \\frac{acos(Lat_0)(Lon - Lon_0)}{[1-e^2sin^2(Lat_0)]^0.5}$\n",
    "\n",
    "$y - y_0 = \\frac{a(1-e^2)(Lat - Lat_0)}{[1-e^2sin^2(Lat_0)]^0.5}$\n",
    "\n",
    "$e = \\sqrt{1-\\frac{b^2}{a^2}}$\n",
    "\n",
    "**Where**,\n",
    "\n",
    "$Lat_0$ = reference latitude in  rad\n",
    "\n",
    "$Lon_0$ = reference longitude in rad\n",
    "\n",
    "$x - x_0$ = displacement in east-west direction in meters\n",
    "\n",
    "$y - y_0$ = displacement in north-south direction in meters\n",
    "\n",
    "$a$ = 6,378,137 m\n",
    "\n",
    "$b$ = 6,356,752.3142 m"
   ]
  },
  {
   "cell_type": "markdown",
   "metadata": {},
   "source": [
    "## Part 1 - The field dimensions in meters (m.)\n",
    "Conver Longitude and latitude reading to radians:"
   ]
  },
  {
   "cell_type": "code",
   "execution_count": 3,
   "metadata": {},
   "outputs": [
    {
     "name": "stdout",
     "output_type": "stream",
     "text": [
      "Lon, NE corner = 1.3995111684452166 rad\n",
      "Lat, NE corner = 0.72024938574363 rad\n",
      "Lon, SW corner = 1.3992425816658818 rad\n",
      "Lat, SW corner = 0.719819840822167 rad\n",
      "e = 0.08181919092890624\n"
     ]
    }
   ],
   "source": [
    "import numpy as np\n",
    "\n",
    "def rad_from_latlong(deg, min, sec):\n",
    "    return (deg + min/60 + sec/3600)*(np.pi/180)\n",
    "\n",
    "a = 6378137\n",
    "b = 6356752.3142\n",
    "e = np.sqrt(1 - (b**2)/a**2) # should be 0.081819191\n",
    "\n",
    "lon_ne_corner = rad_from_latlong(80, 11, 9.9)\n",
    "lat_ne_corner = rad_from_latlong(41, 16, 2.1)\n",
    "lon_sw_corner = rad_from_latlong(80, 10, 14.5)\n",
    "lat_sw_corner = rad_from_latlong(41, 14, 33.5)\n",
    "\n",
    "print(\"Lon, NE corner =\", lon_ne_corner, \"rad\")\n",
    "print(\"Lat, NE corner =\", lat_ne_corner, \"rad\")\n",
    "print(\"Lon, SW corner =\", lon_sw_corner, \"rad\")\n",
    "print(\"Lat, SW corner =\", lat_sw_corner, \"rad\")\n",
    "print(\"e =\", e)"
   ]
  },
  {
   "cell_type": "code",
   "execution_count": 5,
   "metadata": {},
   "outputs": [
    {
     "name": "stdout",
     "output_type": "stream",
     "text": [
      "delta_x = 1289.5031534047498 m\n",
      "delta_y = 2725.3271564993543 m\n"
     ]
    }
   ],
   "source": [
    "# Relative Distances\n",
    "# Note, Lat0/Lon0 denotes reference point, which is NE corner\n",
    "def dx(Lon, Lat0, Lon0, a, e):\n",
    "    numerator = a*np.cos(Lat0)*(Lon-Lon0)\n",
    "    denominator = np.sqrt(1 - e**2 * np.sin(Lat0)**2)\n",
    "    return numerator / denominator\n",
    "\n",
    "def dy(Lat, Lat0, a, e):\n",
    "    numerator = a*(1-e**2)*(Lat - Lat0)\n",
    "    denominator = np.sqrt(1 - e**2 * np.sin(Lat0)**2)\n",
    "    return numerator / denominator\n",
    "\n",
    "delta_x = dx(lon_sw_corner, lat_ne_corner, lon_ne_corner, a, e)\n",
    "delta_y = dy(lat_sw_corner, lat_ne_corner, a, e)\n",
    "\n",
    "# Make non-negative\n",
    "delta_x *= -2*(delta_x < 0) + 1\n",
    "delta_y *= -2*(delta_y < 0) + 1\n",
    "\n",
    "print(\"delta_x =\", delta_x, \"m\")\n",
    "print(\"delta_y =\", delta_y, \"m\") # Note this a rough estimate subject to rounding errors"
   ]
  },
  {
   "cell_type": "markdown",
   "metadata": {},
   "source": [
    "## Part 2 - The field dimensions in hectares (ha.)"
   ]
  },
  {
   "cell_type": "code",
   "execution_count": 6,
   "metadata": {},
   "outputs": [
    {
     "name": "stdout",
     "output_type": "stream",
     "text": [
      "Area: 3514317.9623655174 m^2\n",
      "Area: 351.43179623655175 ha\n"
     ]
    }
   ],
   "source": [
    "area = delta_x * delta_y\n",
    "print(\"Area:\", area, \"m^2\")\n",
    "\n",
    "area_hectares = area / 10000\n",
    "print(\"Area:\", area_hectares, \"ha\")"
   ]
  }
 ],
 "metadata": {
  "interpreter": {
   "hash": "3e018137ffda6e84bad91b13a13082b3438e14729982a434c35ce4ecabfe2410"
  },
  "kernelspec": {
   "display_name": "Python 3.8.5 64-bit ('base': conda)",
   "language": "python",
   "name": "python3"
  },
  "language_info": {
   "codemirror_mode": {
    "name": "ipython",
    "version": 3
   },
   "file_extension": ".py",
   "mimetype": "text/x-python",
   "name": "python",
   "nbconvert_exporter": "python",
   "pygments_lexer": "ipython3",
   "version": "3.8.5"
  },
  "orig_nbformat": 4
 },
 "nbformat": 4,
 "nbformat_minor": 2
}
