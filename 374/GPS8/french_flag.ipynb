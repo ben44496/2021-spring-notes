{
 "cells": [
  {
   "cell_type": "code",
   "execution_count": 26,
   "metadata": {},
   "outputs": [],
   "source": [
    "import networkx as nx\n",
    "from graph import reach\n",
    "from graph import DiGraphWithEdgeChecker\n"
   ]
  },
  {
   "cell_type": "code",
   "execution_count": 27,
   "metadata": {},
   "outputs": [],
   "source": [
    "G = nx.DiGraph()\n",
    "edges = [\n",
    "    (3, 0, {\"color\" : \"red\"}),\n",
    "    (0, 3, {\"color\" : \"white\"}),\n",
    "    (3, 1, {\"color\" : \"blue\"}),\n",
    "    (3, 2, {\"color\" : \"white\"})\n",
    "]\n",
    "G.add_edges_from(edges)\n",
    "# nx.draw(G, with_labels=True)"
   ]
  },
  {
   "cell_type": "code",
   "execution_count": 29,
   "metadata": {},
   "outputs": [
    {
     "data": {
      "text/plain": [
       "NodeView((3, 0, 1, 2))"
      ]
     },
     "execution_count": 29,
     "metadata": {},
     "output_type": "execute_result"
    }
   ],
   "source": [
    "G.nodes"
   ]
  },
  {
   "cell_type": "code",
   "execution_count": 35,
   "metadata": {},
   "outputs": [
    {
     "data": {
      "text/plain": [
       "NodeView(((3, 0), (3, 1), (3, 2), (0, 0), (0, 1), (0, 2), (1, 0), (1, 1), (1, 2), (2, 0), (2, 1), (2, 2)))"
      ]
     },
     "execution_count": 35,
     "metadata": {},
     "output_type": "execute_result"
    }
   ],
   "source": [
    "G_prime = DiGraphWithEdgeChecker()\n",
    "\n",
    "for v in G.nodes:\n",
    "    for i in range(3):\n",
    "        G_prime.add_node((v, i))\n",
    "G_prime.nodes"
   ]
  },
  {
   "cell_type": "code",
   "execution_count": 48,
   "metadata": {},
   "outputs": [
    {
     "data": {
      "text/plain": [
       "[(1, 0), (3, 2), (0, 1), (3, 0)]"
      ]
     },
     "execution_count": 48,
     "metadata": {},
     "output_type": "execute_result"
    }
   ],
   "source": [
    "for u, v in G.edges:\n",
    "    if G[u][v]['color'] == 'red':\n",
    "        G_prime.add_edge((u, 0), (v, 1))\n",
    "    elif G[u][v]['color'] == 'white':\n",
    "        G_prime.add_edge((u, 1), (v, 2))\n",
    "    elif G[u][v]['color'] == 'blue':\n",
    "        G_prime.add_edge((u, 2), (v, 0))\n",
    "    else:\n",
    "        raise Exception(\"Invalid edge color\")\n",
    "\n",
    "s = 3\n",
    "reach_in_G_prime = reach(G_prime, (s,0))\n",
    "# answer = ? # do something with reach_in_G_prime\n",
    "# G_prime.edges\n",
    "reach_in_G_prime"
   ]
  },
  {
   "cell_type": "code",
   "execution_count": 52,
   "metadata": {},
   "outputs": [
    {
     "data": {
      "text/plain": [
       "{0, 1, 3}"
      ]
     },
     "execution_count": 52,
     "metadata": {},
     "output_type": "execute_result"
    }
   ],
   "source": [
    "answer = {n[0] for n in reach_in_G_prime}\n",
    "answer"
   ]
  },
  {
   "cell_type": "code",
   "execution_count": null,
   "metadata": {},
   "outputs": [],
   "source": []
  }
 ],
 "metadata": {
  "interpreter": {
   "hash": "3e018137ffda6e84bad91b13a13082b3438e14729982a434c35ce4ecabfe2410"
  },
  "kernelspec": {
   "display_name": "Python 3.8.5 64-bit ('base': conda)",
   "name": "python3"
  },
  "language_info": {
   "codemirror_mode": {
    "name": "ipython",
    "version": 3
   },
   "file_extension": ".py",
   "mimetype": "text/x-python",
   "name": "python",
   "nbconvert_exporter": "python",
   "pygments_lexer": "ipython3",
   "version": "3.8.5"
  },
  "orig_nbformat": 4
 },
 "nbformat": 4,
 "nbformat_minor": 2
}
