{
 "cells": [
  {
   "cell_type": "code",
   "execution_count": 168,
   "metadata": {},
   "outputs": [],
   "source": [
    "import numpy as np\n",
    "import csv"
   ]
  },
  {
   "cell_type": "code",
   "execution_count": 181,
   "metadata": {},
   "outputs": [],
   "source": [
    "w = np.array([374, 1, 126, 2, 473])\n",
    "\n",
    "def test():\n",
    "    # Tests using human-generated input and labeled answer\n",
    "    input = []\n",
    "    with open(\"input.csv\", 'r') as file:\n",
    "        dr = csv.reader(file)\n",
    "        for row in dr:\n",
    "            input.append(np.array(row, dtype=int))\n",
    "    ans = []\n",
    "    with open(\"ans.csv\", 'r') as file:\n",
    "        dr = csv.reader(file)\n",
    "        for row in dr:\n",
    "            ans.append(np.array(row, dtype=int))\n",
    "            \n",
    "    for i in range(len(input)):\n",
    "        answer = MaxWeight(input[i])\n",
    "        assert np.array_equal(answer, ans[i]), str(answer) + \" \" + str(i+1)\n",
    "        assert answer[-1] == SecondMethod(input[i])[0], str(SecondMethod(input[i])) + \" \" + str(i+1)\n",
    "\n",
    "def random_test(num, max_length=20, max_num=1000):\n",
    "    # Randomly generates tests and checks the two methods against each other\n",
    "    diff = []\n",
    "    for i in range(num):\n",
    "        length = np.random.randint(1, max_length)\n",
    "        if not length:\n",
    "            print(length)\n",
    "        arr = np.random.randint(max_num, size=length)\n",
    "        if not np.array_equal(MaxWeight(arr), SecondMethod(arr)):\n",
    "            diff.append(arr)"
   ]
  },
  {
   "cell_type": "code",
   "execution_count": 185,
   "metadata": {},
   "outputs": [],
   "source": [
    "def MaxWeight(A):\n",
    "    \"\"\"Finds the Maximum Almost-independent path. To be submitted to PL\n",
    "    \"\"\"\n",
    "    sum = np.zeros(A.shape) # Keeps running sum of every other element (ie. sum(A[i-2..1 or 0]))\n",
    "    maximum = np.zeros(A.shape) # Keeps track of the largest sum\n",
    "    for i in range(sum.shape[0]):\n",
    "        if i == 0:\n",
    "            sum[i] = A[i]\n",
    "            maximum[i] = sum[i]\n",
    "        elif i == 1:\n",
    "            sum[i] = A[i]\n",
    "            maximum[i] = sum[i] + sum[i-1]\n",
    "        elif i == 2:\n",
    "            sum[i] = A[i] + sum[i-2]\n",
    "            maximum[i] = max(A[i] + A[i-1], A[i-1] + A[i-2])\n",
    "        elif i == 3:\n",
    "            sum[i] = A[i] + sum[i-2]\n",
    "            maximum[i] =  max(A[i] + sum[i-1], A[i] + maximum[i-2])\n",
    "        else:\n",
    "            sum[i] = A[i] + sum[i-2]\n",
    "            maximum[i] =  max(A[i] + sum[i-1], A[i] + A[i-1] + sum[i-4], A[i] + maximum[i-2], maximum[i-1])\n",
    "\n",
    "    return maximum\n",
    "\n",
    "def SecondMethod(A):\n",
    "    \"\"\"Second brute force way to calculate max weight sum to check answer\n",
    "    \"\"\"\n",
    "    n = A.shape[0]\n",
    "    sum = []\n",
    "    if A.shape[0] == 1: # Edge case\n",
    "        return A\n",
    "    for i in range(n-1):\n",
    "        # For all possible pairs, calculate the maximum weight if\n",
    "        # we choose that pair to be almost-independent\n",
    "        lower = max(np.sum(A[i::-2]), (i > 2)*(np.sum(A[i-3::-2]) + A[i]))\n",
    "        upper = max(np.sum(A[i+1::2]), A[i+1] + np.sum(A[i+4::2]))\n",
    "        sum.append(lower + upper) # Save max weight for pair\n",
    "    max_index = np.argmax(sum)\n",
    "    return sum[max_index], max_index # Return max weight and which pair\n",
    "\n",
    "test()"
   ]
  },
  {
   "cell_type": "code",
   "execution_count": 188,
   "metadata": {},
   "outputs": [],
   "source": [
    "random_test(10000)\n"
   ]
  }
 ],
 "metadata": {
  "interpreter": {
   "hash": "3e018137ffda6e84bad91b13a13082b3438e14729982a434c35ce4ecabfe2410"
  },
  "kernelspec": {
   "display_name": "Python 3.8.5 64-bit ('base': conda)",
   "name": "python3"
  },
  "language_info": {
   "codemirror_mode": {
    "name": "ipython",
    "version": 3
   },
   "file_extension": ".py",
   "mimetype": "text/x-python",
   "name": "python",
   "nbconvert_exporter": "python",
   "pygments_lexer": "ipython3",
   "version": "3.8.5"
  },
  "orig_nbformat": 4
 },
 "nbformat": 4,
 "nbformat_minor": 2
}
