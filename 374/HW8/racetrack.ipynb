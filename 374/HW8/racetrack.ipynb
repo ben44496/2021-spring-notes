{
 "cells": [
  {
   "cell_type": "code",
   "execution_count": 17,
   "metadata": {},
   "outputs": [],
   "source": [
    "from test import *\n"
   ]
  },
  {
   "cell_type": "code",
   "execution_count": 18,
   "metadata": {},
   "outputs": [
    {
     "data": {
      "text/plain": [
       "[[],\n",
       " [[10, 14]],\n",
       " [[9, 15], [21, 25]],\n",
       " [[8, 16], [20, 25]],\n",
       " [[8, 12], [13, 17], [18, 25]],\n",
       " [[8, 11], [13, 25]],\n",
       " [[8, 10], [15, 20]],\n",
       " [[8, 10], [16, 19]],\n",
       " [[8, 10]],\n",
       " [[8, 11]],\n",
       " [[8, 12]],\n",
       " [[8, 13]],\n",
       " [[8, 14]],\n",
       " [[8, 15]],\n",
       " [[8, 10], [12, 15]],\n",
       " [[8, 10], [12, 16]],\n",
       " [[7, 10], [13, 16]],\n",
       " [[7, 11], [13, 16]],\n",
       " [[0, 1], [7, 15]],\n",
       " [[0, 2], [6, 15]],\n",
       " [[0, 14]],\n",
       " [[0, 12]],\n",
       " [[0, 10]],\n",
       " [[3, 7]],\n",
       " []]"
      ]
     },
     "execution_count": 18,
     "metadata": {},
     "output_type": "execute_result"
    }
   ],
   "source": []
  },
  {
   "cell_type": "code",
   "execution_count": 20,
   "metadata": {},
   "outputs": [
    {
     "data": {
      "text/plain": [
       "25"
      ]
     },
     "execution_count": 20,
     "metadata": {},
     "output_type": "execute_result"
    }
   ],
   "source": [
    "len(arr)"
   ]
  },
  {
   "cell_type": "code",
   "execution_count": 15,
   "metadata": {},
   "outputs": [
    {
     "data": {
      "text/plain": [
       "'{\"map\": [[], [[10, 14]], [[9, 15], [21, 25]], [[8, 16], [20, 25]], [[8, 12], [13, 17], [18, 25]], [[8, 11], [13, 25]], [[8, 10], [15, 20]], [[8, 10], [16, 19]], [[8, 10]], [[8, 11]], [[8, 12]], [[8, 13]], [[8, 14]], [[8, 15]], [[8, 10], [12, 15]], [[8, 10], [12, 16]], [[7, 10], [13, 16]], [[7, 11], [13, 16]], [[0, 1], [7, 15]], [[0, 2], [6, 15]], [[0, 14]], [[0, 12]], [[0, 10]], [[3, 7]], []]}'"
      ]
     },
     "execution_count": 15,
     "metadata": {},
     "output_type": "execute_result"
    }
   ],
   "source": []
  },
  {
   "cell_type": "code",
   "execution_count": null,
   "metadata": {},
   "outputs": [],
   "source": []
  }
 ],
 "metadata": {
  "interpreter": {
   "hash": "40d3a090f54c6569ab1632332b64b2c03c39dcf918b08424e98f38b5ae0af88f"
  },
  "kernelspec": {
   "display_name": "Python 3.8.5 64-bit ('base': conda)",
   "name": "python3"
  },
  "language_info": {
   "codemirror_mode": {
    "name": "ipython",
    "version": 3
   },
   "file_extension": ".py",
   "mimetype": "text/x-python",
   "name": "python",
   "nbconvert_exporter": "python",
   "pygments_lexer": "ipython3",
   "version": "3.8.5"
  },
  "orig_nbformat": 4
 },
 "nbformat": 4,
 "nbformat_minor": 2
}
