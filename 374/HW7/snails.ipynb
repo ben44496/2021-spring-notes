{
 "cells": [
  {
   "cell_type": "code",
   "execution_count": 5,
   "metadata": {},
   "outputs": [],
   "source": [
    "import numpy as np\n",
    "from tests import *"
   ]
  },
  {
   "cell_type": "code",
   "execution_count": 18,
   "metadata": {},
   "outputs": [],
   "source": [
    "def MaxReward(arr):\n",
    "    maximum_reward = arr.copy()\n",
    "    n = maximum_reward.shape[0]\n",
    "    for i in range(n-1):\n",
    "        for j in range(i, n-i):\n",
    "            print(maximum_reward[i:i+2,i:i+2])\n",
    "        break\n",
    "    return 0"
   ]
  },
  {
   "cell_type": "code",
   "execution_count": 19,
   "metadata": {},
   "outputs": [
    {
     "data": {
      "text/plain": [
       "array([[ 0,  3,  1, -1,  7,  2],\n",
       "       [ 3,  1, -1, 12, -1,  0],\n",
       "       [ 1, -1,  0,  4, -2,  2],\n",
       "       [-1, 12,  4,  1,  0, -1],\n",
       "       [ 7, -1, -2,  0,  0,  1],\n",
       "       [ 2,  0,  2, -1,  1,  5]])"
      ]
     },
     "execution_count": 19,
     "metadata": {},
     "output_type": "execute_result"
    }
   ],
   "source": [
    "tests = load_tests(file_path=\"snails_test.json\")\n",
    "tests[-1].arr"
   ]
  },
  {
   "cell_type": "code",
   "execution_count": 20,
   "metadata": {},
   "outputs": [
    {
     "name": "stdout",
     "output_type": "stream",
     "text": [
      "[[0 3]\n",
      " [3 1]]\n",
      "[[0 3]\n",
      " [3 1]]\n",
      "[[0 3]\n",
      " [3 1]]\n",
      "[[0 3]\n",
      " [3 1]]\n",
      "[[0 3]\n",
      " [3 1]]\n",
      "[[0 3]\n",
      " [3 1]]\n"
     ]
    },
    {
     "data": {
      "text/plain": [
       "0"
      ]
     },
     "execution_count": 20,
     "metadata": {},
     "output_type": "execute_result"
    }
   ],
   "source": [
    "MaxReward(tests[-1].arr)"
   ]
  },
  {
   "cell_type": "code",
   "execution_count": null,
   "metadata": {},
   "outputs": [],
   "source": []
  }
 ],
 "metadata": {
  "interpreter": {
   "hash": "3e018137ffda6e84bad91b13a13082b3438e14729982a434c35ce4ecabfe2410"
  },
  "kernelspec": {
   "display_name": "Python 3.8.5 64-bit ('base': conda)",
   "name": "python3"
  },
  "language_info": {
   "codemirror_mode": {
    "name": "ipython",
    "version": 3
   },
   "file_extension": ".py",
   "mimetype": "text/x-python",
   "name": "python",
   "nbconvert_exporter": "python",
   "pygments_lexer": "ipython3",
   "version": "3.8.5"
  },
  "orig_nbformat": 4
 },
 "nbformat": 4,
 "nbformat_minor": 2
}
