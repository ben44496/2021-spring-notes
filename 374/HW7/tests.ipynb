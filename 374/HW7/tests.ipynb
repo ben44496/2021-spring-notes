{
 "cells": [
  {
   "cell_type": "code",
   "execution_count": 1,
   "metadata": {},
   "outputs": [],
   "source": [
    "import numpy as np\n",
    "import pandas as pd\n",
    "import json\n",
    "from tests import *"
   ]
  },
  {
   "cell_type": "code",
   "execution_count": 3,
   "metadata": {},
   "outputs": [
    {
     "data": {
      "text/plain": [
       "array([[1, 2, 3, 4, 5, 6, 7],\n",
       "       [2, 1, 2, 3, 4, 5, 6],\n",
       "       [3, 2, 1, 2, 3, 4, 5],\n",
       "       [4, 3, 2, 1, 2, 3, 4],\n",
       "       [5, 4, 3, 2, 1, 2, 3],\n",
       "       [6, 5, 4, 3, 2, 1, 2],\n",
       "       [7, 6, 5, 4, 3, 2, 1]])"
      ]
     },
     "execution_count": 3,
     "metadata": {},
     "output_type": "execute_result"
    }
   ],
   "source": [
    "tl = Test_Loader()\n",
    "data = tl.load_tests()\n",
    "data[-1].arr"
   ]
  },
  {
   "cell_type": "code",
   "execution_count": null,
   "metadata": {},
   "outputs": [],
   "source": []
  }
 ],
 "metadata": {
  "interpreter": {
   "hash": "3e018137ffda6e84bad91b13a13082b3438e14729982a434c35ce4ecabfe2410"
  },
  "kernelspec": {
   "display_name": "Python 3.8.5 64-bit ('base': conda)",
   "name": "python3"
  },
  "language_info": {
   "codemirror_mode": {
    "name": "ipython",
    "version": 3
   },
   "file_extension": ".py",
   "mimetype": "text/x-python",
   "name": "python",
   "nbconvert_exporter": "python",
   "pygments_lexer": "ipython3",
   "version": "3.8.5"
  },
  "orig_nbformat": 4
 },
 "nbformat": 4,
 "nbformat_minor": 2
}
