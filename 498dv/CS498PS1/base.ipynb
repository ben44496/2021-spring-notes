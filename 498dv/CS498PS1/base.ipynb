{
 "cells": [
  {
   "cell_type": "code",
   "execution_count": 8,
   "id": "6ce5b650",
   "metadata": {},
   "outputs": [],
   "source": [
    "from matplotlib import pyplot as plt\n",
    "import numpy as np"
   ]
  },
  {
   "cell_type": "code",
   "execution_count": 20,
   "id": "96dae69c",
   "metadata": {},
   "outputs": [
    {
     "data": {
      "text/plain": [
       "[<matplotlib.lines.Line2D at 0x7fac790c5a20>]"
      ]
     },
     "execution_count": 20,
     "metadata": {},
     "output_type": "execute_result"
    },
    {
     "data": {
      "image/png": "[encoded data removed]",
      "text/plain": [
       "<Figure size 432x288 with 1 Axes>"
      ]
     },
     "metadata": {
      "needs_background": "light"
     },
     "output_type": "display_data"
    }
   ],
   "source": [
    "# Load the received signal file and plot the complex values\n",
    "rx_signal = np.load('rx_signal.npy')\n",
    "preamble = np.array([1,0,0,1,1,0,1,0,1,1,0,0,0,1,0,0,0,1,1,0,1,0,0,1,1,1,0,0,1,0,1,1], dtype=np.bool_)\n",
    "plt.plot(np.real(rx_signal),np.imag(rx_signal),'.')"
   ]
  },
  {
   "cell_type": "code",
   "execution_count": 10,
   "id": "6460d6fa",
   "metadata": {},
   "outputs": [],
   "source": [
    "# Convert bit-array to ascii value\n",
    "def get_ascii(message_bits):\n",
    "    me = np.packbits(message_bits)\n",
    "    return [chr(m) for m in me]"
   ]
  },
  {
   "cell_type": "code",
   "execution_count": 19,
   "id": "6d0e1454",
   "metadata": {},
   "outputs": [
    {
     "data": {
      "text/plain": [
       "['a', 'b']"
      ]
     },
     "execution_count": 19,
     "metadata": {},
     "output_type": "execute_result"
    }
   ],
   "source": [
    "#Example usage of get_ascii\n",
    "bits = np.array([0,1,1,0,0,0,0,1,0,1,1,0,0,0,1,0],dtype=np.bool)\n",
    "get_ascii(bits)"
   ]
  }
 ],
 "metadata": {
  "kernelspec": {
   "display_name": "Python 3",
   "language": "python",
   "name": "python3"
  },
  "language_info": {
   "codemirror_mode": {
    "name": "ipython",
    "version": 3
   },
   "file_extension": ".py",
   "mimetype": "text/x-python",
   "name": "python",
   "nbconvert_exporter": "python",
   "pygments_lexer": "ipython3",
   "version": "3.6.13"
  }
 },
 "nbformat": 4,
 "nbformat_minor": 5
}
