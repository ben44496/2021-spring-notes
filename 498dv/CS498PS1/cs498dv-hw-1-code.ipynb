{
 "cells": [
  {
   "cell_type": "code",
   "execution_count": 18,
   "source": [
    "import numpy as np\r\n",
    "import numpy.linalg as la\r\n",
    "from matplotlib import pyplot as plt\r\n",
    "import pandas as pd\r\n",
    "import cmath"
   ],
   "outputs": [],
   "metadata": {}
  },
  {
   "cell_type": "markdown",
   "source": [
    "# Problem 1-1)"
   ],
   "metadata": {}
  },
  {
   "cell_type": "code",
   "execution_count": 19,
   "source": [
    "preamble = np.array([1,0,0,1,1,0,1,0,1,1,0,0,0,1,0,0,0,1,1,0,1,0,0,1,1,1,0,0,1,0,1,1])"
   ],
   "outputs": [],
   "metadata": {}
  },
  {
   "cell_type": "code",
   "execution_count": 20,
   "source": [
    "rx_signal = np.load('rx_signal.npy')"
   ],
   "outputs": [],
   "metadata": {}
  },
  {
   "cell_type": "code",
   "execution_count": 21,
   "source": [
    "def two_bit_mod(bits):\r\n",
    "    assert bits.shape[0] == 2\r\n",
    "    if np.equal(bits, np.array([0,0])).all():\r\n",
    "        return 1\r\n",
    "    elif np.equal(bits, np.array([0,1])).all():\r\n",
    "        return 1j\r\n",
    "    elif np.equal(bits, np.array([1,0])).all():\r\n",
    "        return -1j\r\n",
    "    elif np.equal(bits, np.array([1,1])).all():\r\n",
    "        return -1\r\n",
    "    return 0\r\n",
    "\r\n",
    "def two_bit_modulation(preamble):\r\n",
    "    assert preamble.shape[0] % 2 == 0\r\n",
    "    modulated_preamble = np.empty(int(preamble.shape[0] / 2), dtype=complex)\r\n",
    "\r\n",
    "    for i in range(0, len(preamble), 2):\r\n",
    "        modulated_preamble[int(i / 2)] = two_bit_mod(preamble[i:i+2])\r\n",
    "    return modulated_preamble\r\n",
    "\r\n",
    "two_bit_modulation(preamble)"
   ],
   "outputs": [
    {
     "output_type": "execute_result",
     "data": {
      "text/plain": [
       "array([-0.-1.j,  0.+1.j, -0.-1.j, -0.-1.j, -1.+0.j,  1.+0.j,  0.+1.j,\n",
       "        1.+0.j,  0.+1.j, -0.-1.j, -0.-1.j,  0.+1.j, -1.+0.j,  1.+0.j,\n",
       "       -0.-1.j, -1.+0.j])"
      ]
     },
     "metadata": {},
     "execution_count": 21
    }
   ],
   "metadata": {}
  },
  {
   "cell_type": "markdown",
   "source": [
    "## Problem 1-1) i."
   ],
   "metadata": {}
  },
  {
   "cell_type": "code",
   "execution_count": 22,
   "source": [
    "# problem 1-i\r\n",
    "def problem_1_1():\r\n",
    "    preamble = np.array([1,0,0,1,1,0,1,0,1,1,0,0,0,1,0,0,0,1,1,0,1,0,0,1,1,1,0,0,1,0,1,1])\r\n",
    "    answer = np.array([-1j, 1j, -1j, -1j, -1, 1, 1j, 1, 1j, -1j, -1j, 1j, -1, 1, -1j, -1]) # Used to check against actual answer\r\n",
    "    output = two_bit_modulation(preamble)\r\n",
    "    assert np.equal(answer, output).all()\r\n",
    "    return output\r\n",
    "\r\n",
    "problem_1_1()"
   ],
   "outputs": [
    {
     "output_type": "execute_result",
     "data": {
      "text/plain": [
       "array([-0.-1.j,  0.+1.j, -0.-1.j, -0.-1.j, -1.+0.j,  1.+0.j,  0.+1.j,\n",
       "        1.+0.j,  0.+1.j, -0.-1.j, -0.-1.j,  0.+1.j, -1.+0.j,  1.+0.j,\n",
       "       -0.-1.j, -1.+0.j])"
      ]
     },
     "metadata": {},
     "execution_count": 22
    }
   ],
   "metadata": {}
  },
  {
   "cell_type": "markdown",
   "source": [
    "## Problem 1-1) ii."
   ],
   "metadata": {}
  },
  {
   "cell_type": "code",
   "execution_count": 23,
   "source": [
    "# problem 1-ii\r\n",
    "def problem_1_2():\r\n",
    "    preamble = np.array([1,0,0,1,1,0,1,0,1,1,0,0,0,1,0,0,0,1,1,0,1,0,0,1,1,1,0,0,1,0,1,1])\r\n",
    "    x_hat = two_bit_modulation(preamble)\r\n",
    "    y_hat = rx_signal[0:16]\r\n",
    "    h = np.average(y_hat / x_hat)\r\n",
    "    return h\r\n",
    "\r\n",
    "problem_1_2()"
   ],
   "outputs": [
    {
     "output_type": "execute_result",
     "data": {
      "text/plain": [
       "(0.50114281148847+0.3211975378330696j)"
      ]
     },
     "metadata": {},
     "execution_count": 23
    }
   ],
   "metadata": {}
  },
  {
   "cell_type": "markdown",
   "source": [
    "## Problem 1-1) iii."
   ],
   "metadata": {}
  },
  {
   "cell_type": "code",
   "execution_count": 24,
   "source": [
    "# problem 1-iii\r\n",
    "def normalize_range(arr):\r\n",
    "    while ((arr < 0).any()):\r\n",
    "        arr[(arr < 0)] += 2*np.pi\r\n",
    "    while ((arr < 0).any()):\r\n",
    "        arr[arr >= 2*np.pi] -= 2*np.pi\r\n",
    "    return arr\r\n",
    "\r\n",
    "def two_bit_demodulation(msg):\r\n",
    "    possible_bits = np.array([0.0, 0.5*np.pi, np.pi, 1.5*np.pi, 2*np.pi])\r\n",
    "    matching_bits = np.array([[0,0],[0,1],[1,1],[1,0],[0,0]])\r\n",
    "    return matching_bits[np.argmin(abs(msg - possible_bits))]\r\n",
    "\r\n",
    "def stupid_two_bit_demodulation(msg):\r\n",
    "    pass\r\n",
    "    \r\n",
    "def problem_1_3():\r\n",
    "    h = problem_1_2()\r\n",
    "    msg = rx_signal[16:]\r\n",
    "    original_msg = msg / h\r\n",
    "    phase = np.vectorize(cmath.phase)(original_msg)\r\n",
    "    phase = normalize_range(phase)\r\n",
    "    \r\n",
    "    bit_msg = np.empty(len(msg)*2, dtype=int)\r\n",
    "    for i in range(0, len(msg)*2, 2):\r\n",
    "        two_bit_msg = two_bit_demodulation(phase[int(i/2)])\r\n",
    "        bit_msg[i:i+2] = two_bit_msg\r\n",
    "\r\n",
    "    return bit_msg\r\n",
    "\r\n",
    "problem_1_3()"
   ],
   "outputs": [
    {
     "output_type": "execute_result",
     "data": {
      "text/plain": [
       "array([0, 1, 0, 1, 0, 1, 1, 1, 0, 1, 1, 0, 0, 1, 0, 1, 0, 1, 1, 0, 1, 1,\n",
       "       0, 0, 0, 1, 1, 0, 0, 0, 1, 1, 0, 1, 1, 0, 1, 1, 1, 1, 0, 1, 1, 0,\n",
       "       1, 1, 0, 1, 0, 1, 1, 0, 0, 1, 0, 1, 0, 0, 1, 0, 0, 0, 0, 0, 0, 1,\n",
       "       1, 1, 0, 1, 0, 0, 0, 1, 1, 0, 1, 1, 1, 1, 0, 0, 1, 0, 0, 0, 0, 0,\n",
       "       0, 1, 0, 0, 0, 0, 1, 1, 0, 1, 0, 1, 0, 0, 1, 1, 0, 0, 1, 1, 0, 1,\n",
       "       0, 0, 0, 0, 1, 1, 1, 0, 0, 1, 0, 0, 1, 1, 1, 0, 0, 0])"
      ]
     },
     "metadata": {},
     "execution_count": 24
    }
   ],
   "metadata": {}
  },
  {
   "cell_type": "code",
   "execution_count": 25,
   "source": [
    "# Convert bit-array to ascii value\r\n",
    "def get_ascii(message_bits):\r\n",
    "    me = np.packbits(message_bits)\r\n",
    "    return [chr(m) for m in me]\r\n",
    "''.join(get_ascii(problem_1_3()))"
   ],
   "outputs": [
    {
     "output_type": "execute_result",
     "data": {
      "text/plain": [
       "'Welcome to CS498'"
      ]
     },
     "metadata": {},
     "execution_count": 25
    }
   ],
   "metadata": {}
  },
  {
   "cell_type": "markdown",
   "source": [
    "# Problem 1-2)"
   ],
   "metadata": {}
  },
  {
   "cell_type": "code",
   "execution_count": 26,
   "source": [
    "rx_mimo_0 = np.load('rx_mimo_0.npy')\r\n",
    "rx_mimo_1 = np.load('rx_mimo_1.npy')"
   ],
   "outputs": [],
   "metadata": {}
  },
  {
   "cell_type": "markdown",
   "source": [
    "## Problem 1-2) i.\r\n",
    "\r\n",
    "$y_1 = h_{11}x_1+h_{21}x_2+n_1$\r\n",
    "\r\n",
    "$y_2 = h_{12}x_1+h_{22}x_2+n_2$\r\n",
    "\r\n",
    "$y = Hx + n$\r\n",
    "\r\n",
    "$H^{-1}y = x + H^{-1}n$"
   ],
   "metadata": {}
  },
  {
   "cell_type": "code",
   "execution_count": 27,
   "source": [
    "def problem_2_1():\r\n",
    "    x_hat = two_bit_modulation(preamble)\r\n",
    "    y_hat_11 = rx_mimo_0[:16]\r\n",
    "    y_hat_21 = rx_mimo_1[:16]\r\n",
    "    y_hat_12 = rx_mimo_0[16:32]\r\n",
    "    y_hat_22 = rx_mimo_1[16:32]\r\n",
    "    h_11 =  np.average(y_hat_11 / x_hat)\r\n",
    "    h_12 =  np.average(y_hat_12 / x_hat)\r\n",
    "    h_21 =  np.average(y_hat_21 / x_hat)\r\n",
    "    h_22 =  np.average(y_hat_22 / x_hat)\r\n",
    "    return np.array([[h_11, h_12],[h_21, h_22]])\r\n",
    "    \r\n",
    "problem_2_1()"
   ],
   "outputs": [
    {
     "output_type": "execute_result",
     "data": {
      "text/plain": [
       "array([[ 0.29923584+0.5001769j ,  0.4992434 +0.30066846j],\n",
       "       [ 0.09917548-0.49943232j, -0.70022036+0.20104199j]])"
      ]
     },
     "metadata": {},
     "execution_count": 27
    }
   ],
   "metadata": {}
  },
  {
   "cell_type": "code",
   "execution_count": 28,
   "source": [
    "def problem_2_2():\r\n",
    "    H = problem_2_1()\r\n",
    "    msg_0 = rx_mimo_0[32:]\r\n",
    "    msg_1 = rx_mimo_1[32:]\r\n",
    "    original_msg = la.inv(H) @ [msg_0, msg_1]\r\n",
    "    phase = np.vectorize(cmath.phase)(original_msg)\r\n",
    "    phase = normalize_range(phase)\r\n",
    "\r\n",
    "    decoded_msgs = []\r\n",
    "    for m in range(phase.shape[0]):\r\n",
    "        bit_msg = np.empty(phase.shape[1]*2, dtype=int)\r\n",
    "        for b in range(0, phase.shape[1]*2, 2):\r\n",
    "            two_bit_msg = two_bit_demodulation(phase[m][int(b/2)])\r\n",
    "            bit_msg[b:b+2] = two_bit_msg\r\n",
    "        decoded_msgs.append(bit_msg)\r\n",
    "    return decoded_msgs\r\n",
    "\r\n",
    "problem_2_2()"
   ],
   "outputs": [
    {
     "output_type": "execute_result",
     "data": {
      "text/plain": [
       "[array([0, 1, 0, 0, 1, 0, 0, 0, 0, 1, 1, 0, 0, 1, 0, 1, 0, 1, 1, 1, 1, 0,\n",
       "        0, 1, 0, 0, 1, 0, 1, 1, 0, 0, 0, 0, 1, 0, 0, 0, 0, 0, 0, 1, 1, 0,\n",
       "        0, 1, 0, 0, 0, 1, 1, 0, 1, 1, 1, 1, 0, 1, 1, 0, 0, 1, 0, 1, 0, 1,\n",
       "        1, 1, 0, 0, 1, 1, 0, 0, 1, 0, 0, 0, 0, 0, 0, 1, 1, 1, 0, 1, 0, 0,\n",
       "        0, 1, 1, 0, 1, 0, 0, 0, 0, 1, 1, 0, 1, 0, 0, 1, 0, 1, 1, 1, 0, 0,\n",
       "        1, 1, 0, 0, 1, 0, 0, 0, 0, 0, 0, 0, 1, 0, 0, 0, 0, 0]),\n",
       " array([0, 1, 1, 0, 1, 1, 0, 1, 0, 1, 1, 0, 0, 0, 0, 1, 0, 1, 1, 0, 1, 0,\n",
       "        1, 1, 0, 1, 1, 0, 0, 1, 0, 1, 0, 0, 1, 0, 0, 0, 0, 0, 0, 1, 1, 1,\n",
       "        0, 0, 1, 1, 0, 1, 1, 0, 0, 1, 0, 1, 0, 1, 1, 0, 1, 1, 1, 0, 0, 1,\n",
       "        1, 1, 0, 0, 1, 1, 0, 1, 1, 0, 0, 1, 0, 1, 0, 0, 1, 0, 0, 0, 0, 0,\n",
       "        0, 1, 1, 0, 1, 1, 1, 0, 0, 1, 1, 0, 1, 1, 1, 1, 0, 1, 1, 1, 0, 1,\n",
       "        1, 1, 0, 0, 1, 1, 1, 1, 1, 1, 0, 0, 1, 0, 0, 0, 0, 0])]"
      ]
     },
     "metadata": {},
     "execution_count": 28
    }
   ],
   "metadata": {}
  },
  {
   "cell_type": "markdown",
   "source": [
    "## Problem 1-2) iv."
   ],
   "metadata": {}
  },
  {
   "cell_type": "code",
   "execution_count": 29,
   "source": [
    "def problem_2_4():\r\n",
    "    decoded_msgs = problem_2_2()\r\n",
    "    # for i in range(len(decoded_msgs)):\r\n",
    "    #     decoded_msgs[i] = get_ascii(decoded_msgs[i])\r\n",
    "    return [''.join(get_ascii(msg)) for msg in decoded_msgs]\r\n",
    "problem_2_4()"
   ],
   "outputs": [
    {
     "output_type": "execute_result",
     "data": {
      "text/plain": [
       "['Hey, does this  ', 'make sense now? ']"
      ]
     },
     "metadata": {},
     "execution_count": 29
    }
   ],
   "metadata": {}
  },
  {
   "cell_type": "markdown",
   "source": [
    "# Problem 1-3)"
   ],
   "metadata": {}
  },
  {
   "cell_type": "code",
   "execution_count": 30,
   "source": [
    "H = np.array([[(1+1j)/np.sqrt(2), (-3+3j)/np.sqrt(2)],[2j, -6]])\r\n",
    "H"
   ],
   "outputs": [
    {
     "output_type": "execute_result",
     "data": {
      "text/plain": [
       "array([[ 0.70710678+0.70710678j, -2.12132034+2.12132034j],\n",
       "       [ 0.        +2.j        , -6.        +0.j        ]])"
      ]
     },
     "metadata": {},
     "execution_count": 30
    }
   ],
   "metadata": {}
  },
  {
   "cell_type": "code",
   "execution_count": 174,
   "source": [
    "# Check Empirically\r\n",
    "# H = problem_2_1()\r\n",
    "# msg_0 = rx_mimo_0[32:]\r\n",
    "# msg_1 = rx_mimo_1[32:]\r\n",
    "# original_msg = la.inv(H) @ [msg_0, msg_1]\r\n",
    "# phase = np.vectorize(cmath.phase)(original_msg)\r\n",
    "# phase = normalize_range(phase)\r\n",
    "\r\n",
    "# decoded_msgs = []\r\n",
    "# for m in range(phase.shape[0]):\r\n",
    "#     bit_msg = np.empty(phase.shape[1]*2, dtype=int)\r\n",
    "#     for b in range(0, phase.shape[1]*2, 2):\r\n",
    "#         two_bit_msg = two_bit_demodulation(phase[m][int(b/2)])\r\n",
    "#         bit_msg[b:b+2] = two_bit_msg\r\n",
    "#     decoded_msgs.append(bit_msg)\r\n",
    "\r\n",
    "# Encode msg\r\n",
    "x_1 = (np.random.rand(16) >= 0.5).astype(int) # np.array([0,1,0,1,0,1])\r\n",
    "x_2 = (np.random.rand(16) >= 0.5).astype(int) # np.array([1,1,1,1,1,1])\r\n",
    "x = np.array([x_1, x_2])\r\n",
    "y = H @ x\r\n",
    "\r\n",
    "# Try decoding\r\n",
    "y1, y2 = y\r\n",
    "h11, h12 = H[0]\r\n",
    "h21, h22 = H[1]"
   ],
   "outputs": [],
   "metadata": {}
  },
  {
   "cell_type": "code",
   "execution_count": 175,
   "source": [
    "x_ = la.lstsq(H, y, rcond=None)[0]\r\n",
    "# x1 = x_[0] / la.norm(x_[0], np.inf)\r\n",
    "# x2 = x_[1] / la.norm(x_[1], np.inf)\r\n",
    "# x1 = (x_[0] / la.norm(x_[0], np.inf)).astype(int)\r\n",
    "# x2 = (x_[1] / la.norm(x_[1], np.inf)).astype(int)\r\n",
    "x1 = (x_[0].real / la.norm(x_[0].real, np.inf)).astype(int)\r\n",
    "x2 = (x_[0].imag / la.norm(x_[0].imag, np.inf)).astype(int)"
   ],
   "outputs": [],
   "metadata": {}
  },
  {
   "cell_type": "code",
   "execution_count": 176,
   "source": [
    "# x1_ = x[0][0].imag\r\n",
    "# x1 = (x1_ / la.norm(x1_, np.inf)).astype(int)\r\n",
    "# x2_ = x[0][1].real\r\n",
    "# x2 = (x2_ / la.norm(x2_, np.inf)).astype(int)\r\n",
    "# print(x1, x2)"
   ],
   "outputs": [],
   "metadata": {}
  },
  {
   "cell_type": "code",
   "execution_count": 181,
   "source": [
    "x1, x_1, (x1 == x_1).all()"
   ],
   "outputs": [
    {
     "output_type": "execute_result",
     "data": {
      "text/plain": [
       "(array([0, 1, 0, 1, 1, 0, 1, 1, 1, 0, 1, 0, 0, 0, 0, 1]),\n",
       " array([0, 1, 0, 1, 1, 0, 1, 1, 1, 0, 1, 0, 0, 0, 0, 1]),\n",
       " True)"
      ]
     },
     "metadata": {},
     "execution_count": 181
    }
   ],
   "metadata": {}
  },
  {
   "cell_type": "code",
   "execution_count": 187,
   "source": [
    "x2, x_2, (x2 == x_2).all()"
   ],
   "outputs": [
    {
     "output_type": "execute_result",
     "data": {
      "text/plain": [
       "(array([1, 1, 1, 0, 1, 0, 0, 0, 1, 0, 1, 0, 1, 0, 0, 0]),\n",
       " array([1, 1, 1, 0, 1, 0, 0, 0, 1, 0, 1, 0, 1, 0, 0, 0]),\n",
       " True)"
      ]
     },
     "metadata": {},
     "execution_count": 187
    }
   ],
   "metadata": {}
  },
  {
   "cell_type": "code",
   "execution_count": 198,
   "source": [
    "H1 = H[:,0] / la.norm(H[:,0])\r\n",
    "H2 = H[:,1] / la.norm(H[:,1])\r\n",
    "H1, H2"
   ],
   "outputs": [
    {
     "output_type": "execute_result",
     "data": {
      "text/plain": [
       "(array([0.31622777+0.31622777j, 0.        +0.89442719j]),\n",
       " array([-0.31622777+0.31622777j, -0.89442719+0.j        ]))"
      ]
     },
     "metadata": {},
     "execution_count": 198
    }
   ],
   "metadata": {}
  },
  {
   "cell_type": "markdown",
   "source": [
    "**Answer:** As you can see, we are able to extract both message from the real and imaginary parts of our least squares answer. This is because in our encoding for our 2nd message, it encodes it into the imaginary dimension, so we are basically using the imaginary part as the encoding for the 2nd message, and the real part as the encoding for the first message. You can also think of this as choosing some $\\alpha$ value that makes it so $x_1$ and $x_2$ become orthogonal (in order to decode), and so we can choose $3j$ as that performs a $\\pi/2$ rotation allowing us to actually have two orthogonal vectors (note they are not orthonormal)."
   ],
   "metadata": {}
  },
  {
   "cell_type": "markdown",
   "source": [],
   "metadata": {}
  }
 ],
 "metadata": {
  "kernelspec": {
   "name": "python3",
   "display_name": "Python 3.8.5 64-bit ('base': conda)"
  },
  "language_info": {
   "codemirror_mode": {
    "name": "ipython",
    "version": 3
   },
   "file_extension": ".py",
   "mimetype": "text/x-python",
   "name": "python",
   "nbconvert_exporter": "python",
   "pygments_lexer": "ipython3",
   "version": "3.8.5"
  },
  "interpreter": {
   "hash": "3e018137ffda6e84bad91b13a13082b3438e14729982a434c35ce4ecabfe2410"
  }
 },
 "nbformat": 4,
 "nbformat_minor": 4
}